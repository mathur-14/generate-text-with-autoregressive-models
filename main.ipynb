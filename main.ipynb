{
  "cells": [
    {
      "cell_type": "markdown",
      "id": "b4c6ed96",
      "metadata": {
        "id": "b4c6ed96"
      },
      "source": [
        "# Lab 3: Generating Text with an Autoregressive Model\n",
        "\n",
        "In this lab, we will build a simple model for generating text in the style of a given book. In lecture, we learned about **probabalistic models**, which views the data given as the result of some random process. In this lab, we will be using this probablistic assumption to **generate new data**. Specifically, we will use an autoregressive model, as discussed in Lecture 4. Our model will begin with a list of words, and generate a new word based on the $k$ most recent previous words. $k$ is chosen to be a small fixed constant, which limits the complexity of the model.\n",
        "\n",
        "Sometimes this type of model is also called a Markov Model. Similar techniques can be used for time-series and really any other data that has some notion of _recency_. For example, our Lab 2 studied an auto-regressive model for time series data. Even fancy modern language models like the GPT family of models are auto-regressive.\n",
        "\n",
        "We get our input data from [Project Gutenberg](https://www.gutenberg.org/), a free library of public-works books made available online. By default, we include four books in this lab:\n",
        "- _Alice in Wonderland_ by Lewis Carroll\n",
        "- _Metamorphosis_ by Franz Kafka\n",
        "- _The Count of Monte Cristo_ by Alexandre Dumas\n",
        "- _The Complete Works of William Shakespeare_ by William Shakespeare\n",
        "\n",
        "You will be able to add or change these book as you please, and there is code to make this relatively seamless. Pick your favorite work on the site!\n",
        "\n",
        "---\n",
        "\n",
        "The goals of this lab are to:\n",
        "- Get some experience preprocessing data\n",
        "- Train and generate text with an autoregressive model\n",
        "- Understand the quality/plagiarism tradeoff that comes with increasing the complexity of the autoregressive model\n",
        "- Get some experience building experiments that teach us about our models\n"
      ]
    },
    {
      "cell_type": "code",
      "execution_count": 1,
      "id": "f516d751",
      "metadata": {
        "id": "f516d751"
      },
      "outputs": [],
      "source": [
        "# Importing Libararies\n",
        "\n",
        "import random\n",
        "import numpy as np\n",
        "from tqdm import tqdm # Quality-of-life package, makes loading bars in for loops. See github.com/tqdm/tqdm for details.\n",
        "\n",
        "import matplotlib.pyplot as plt\n",
        "plt.style.use('classic') # Optional styling for the plots. I think it's pretty."
      ]
    },
    {
      "cell_type": "markdown",
      "id": "44c4727f",
      "metadata": {
        "id": "44c4727f"
      },
      "source": [
        "---\n",
        "\n",
        "# 1. Preprocessing text\n",
        "\n",
        "First, we have some code to help you download books from Project Gutenberg directly. The function `download_from_book_id(bookid, bookname)` will take the id of a book on Gutenberg and download it locally as the file `bookname.txt`.\n",
        "\n",
        "However, we will see that the `.txt` files hosted by Project Gutenberg have headers and footer containing some metadata and legal text. Your first coding task will be to remove that metadata and legal text.\n",
        "\n",
        "To use your own book of interest, search for it on Project Gutenberg, and take the number at the end of the url for that page. For instance, if you search for _The Count of Monte Cristo_, you will get the url `https://www.gutenberg.org/ebooks/1184`, and so the `bookid=1184` for that book.\n"
      ]
    },
    {
      "cell_type": "code",
      "source": [
        "#Code adapted from https://pypi.org/project/Gutenberg/ to help download from\n",
        "#Project Gutenberg (www.gutenberg.org/) automatically. You don't need to read this.\n",
        "\n",
        "def _format_download_urls(etextno):\n",
        "    \"\"\"\n",
        "    Returns the possible urls location on the Project Gutenberg servers for a\n",
        "    given text. Mostly ripped from https://pypi.org/project/Gutenberg/.\n",
        "    \"\"\"\n",
        "    uri_root = r'http://www.gutenberg.lib.md.us'\n",
        "\n",
        "    if 0 < etextno < 10:\n",
        "        oldstyle_files = (\n",
        "            'when11',\n",
        "            'bill11',\n",
        "            'jfk11',\n",
        "            'getty11',\n",
        "            'const11',\n",
        "            'liber11',\n",
        "            'mayfl11',\n",
        "            'linc211',\n",
        "            'linc111',\n",
        "        )\n",
        "        etextno = int(etextno)\n",
        "        return '{root}/etext90/{name}.txt'.format(\n",
        "            root=uri_root,\n",
        "            name=oldstyle_files[etextno - 1])\n",
        "\n",
        "    else:\n",
        "        etextno = str(etextno)\n",
        "        extensions = ('.txt', '-8.txt', '-0.txt')\n",
        "        urls = []\n",
        "        for extension in extensions:\n",
        "            uri = '{root}/{path}/{etextno}/{etextno}{extension}'.format(\n",
        "                root=uri_root,\n",
        "                path='/'.join(etextno[:len(etextno) - 1]),\n",
        "                etextno=etextno,\n",
        "                extension=extension)\n",
        "            urls.append(uri)\n",
        "        return urls"
      ],
      "metadata": {
        "id": "MOk_y4Aj0Zkd"
      },
      "id": "MOk_y4Aj0Zkd",
      "execution_count": 2,
      "outputs": []
    },
    {
      "cell_type": "code",
      "source": [
        "def download_from_book_id(bookid, bookname):\n",
        "  \"\"\"\n",
        "  Downloads a from book from Project Gutenberg given the book's id number, and\n",
        "  stores it locally in `bookname.txt`.\n",
        "\n",
        "  :param      bookid:    The id of the book on Project Gutenberg\n",
        "  :type       bookid:    int\n",
        "  :param      bookname:  The name to give the book (or rather the file path to the book)\n",
        "  :type       bookname:  str\n",
        "  \"\"\"\n",
        "\n",
        "  book_dst = f'{bookname}.txt'\n",
        "\n",
        "  import os\n",
        "  from six.moves import urllib\n",
        "\n",
        "  if os.path.isfile(book_dst):\n",
        "      print('File %s is already downloaded' % book_dst)\n",
        "  else:\n",
        "      possible_urls = _format_download_urls(bookid)\n",
        "      print(possible_urls)\n",
        "      for url in possible_urls:\n",
        "        print(f'trying {url}...')\n",
        "        try:\n",
        "          urllib.request.urlretrieve(url, book_dst)\n",
        "          print(f'Downloaded {bookname}.txt, with book id {bookid}.')\n",
        "          return\n",
        "        except urllib.error.HTTPError:\n",
        "          None\n",
        "      raise NameError(\"Couldn't find that book on Gutenberg\")\n"
      ],
      "metadata": {
        "id": "ulXqKx01wrpq"
      },
      "id": "ulXqKx01wrpq",
      "execution_count": 3,
      "outputs": []
    },
    {
      "cell_type": "code",
      "source": [
        "download_from_book_id(100, \"Shakespeare\")\n",
        "download_from_book_id(5200, \"Metamorphosis\")\n",
        "download_from_book_id(11, \"Wonderland\")\n",
        "download_from_book_id(1184, \"MonteCristo\")"
      ],
      "metadata": {
        "id": "vTY8h5320DaR",
        "colab": {
          "base_uri": "https://localhost:8080/"
        },
        "outputId": "4573e949-754f-4cdd-dfaf-8476fcac2a60"
      },
      "id": "vTY8h5320DaR",
      "execution_count": 4,
      "outputs": [
        {
          "output_type": "stream",
          "name": "stdout",
          "text": [
            "['http://www.gutenberg.lib.md.us/1/0/100/100.txt', 'http://www.gutenberg.lib.md.us/1/0/100/100-8.txt', 'http://www.gutenberg.lib.md.us/1/0/100/100-0.txt']\n",
            "trying http://www.gutenberg.lib.md.us/1/0/100/100.txt...\n",
            "trying http://www.gutenberg.lib.md.us/1/0/100/100-8.txt...\n",
            "trying http://www.gutenberg.lib.md.us/1/0/100/100-0.txt...\n",
            "Downloaded Shakespeare.txt, with book id 100.\n",
            "['http://www.gutenberg.lib.md.us/5/2/0/5200/5200.txt', 'http://www.gutenberg.lib.md.us/5/2/0/5200/5200-8.txt', 'http://www.gutenberg.lib.md.us/5/2/0/5200/5200-0.txt']\n",
            "trying http://www.gutenberg.lib.md.us/5/2/0/5200/5200.txt...\n",
            "trying http://www.gutenberg.lib.md.us/5/2/0/5200/5200-8.txt...\n",
            "trying http://www.gutenberg.lib.md.us/5/2/0/5200/5200-0.txt...\n",
            "Downloaded Metamorphosis.txt, with book id 5200.\n",
            "['http://www.gutenberg.lib.md.us/1/11/11.txt', 'http://www.gutenberg.lib.md.us/1/11/11-8.txt', 'http://www.gutenberg.lib.md.us/1/11/11-0.txt']\n",
            "trying http://www.gutenberg.lib.md.us/1/11/11.txt...\n",
            "trying http://www.gutenberg.lib.md.us/1/11/11-8.txt...\n",
            "trying http://www.gutenberg.lib.md.us/1/11/11-0.txt...\n",
            "Downloaded Wonderland.txt, with book id 11.\n",
            "['http://www.gutenberg.lib.md.us/1/1/8/1184/1184.txt', 'http://www.gutenberg.lib.md.us/1/1/8/1184/1184-8.txt', 'http://www.gutenberg.lib.md.us/1/1/8/1184/1184-0.txt']\n",
            "trying http://www.gutenberg.lib.md.us/1/1/8/1184/1184.txt...\n",
            "trying http://www.gutenberg.lib.md.us/1/1/8/1184/1184-8.txt...\n",
            "trying http://www.gutenberg.lib.md.us/1/1/8/1184/1184-0.txt...\n",
            "Downloaded MonteCristo.txt, with book id 1184.\n"
          ]
        }
      ]
    },
    {
      "cell_type": "markdown",
      "source": [
        "---\n",
        "\n",
        "Now we have stored `Shakespeare.txt`, `Metamorphosis.txt`, `Wonderland.txt`, and `MonteCristo.txt` locally. Let's open up one of these files and look at the first 1000 characters:\n",
        "\n",
        "---"
      ],
      "metadata": {
        "id": "Hx0AYYTM6qIC"
      },
      "id": "Hx0AYYTM6qIC"
    },
    {
      "cell_type": "code",
      "source": [
        "file_handle = open(\"Wonderland.txt\", encoding=\"utf8\")  # It's very important to mention utf8 encoding\n",
        "wonderland_book_text = file_handle.read()  # Copies the book as a string in memory\n",
        "file_handle.close()\n",
        "\n",
        "print(wonderland_book_text[0:1000])"
      ],
      "metadata": {
        "id": "iV8Kh-kG67S1",
        "colab": {
          "base_uri": "https://localhost:8080/"
        },
        "outputId": "c4c70349-865e-4c98-ea56-e3fd2f8e0c63"
      },
      "id": "iV8Kh-kG67S1",
      "execution_count": 5,
      "outputs": [
        {
          "output_type": "stream",
          "name": "stdout",
          "text": [
            "﻿﻿*** START OF THE PROJECT GUTENBERG EBOOK ALICE'S ADVENTURES IN\n",
            "WONDERLAND ***\n",
            "[Illustration]\n",
            "\n",
            "\n",
            "\n",
            "\n",
            "Alice’s Adventures in Wonderland\n",
            "\n",
            "by Lewis Carroll\n",
            "\n",
            "THE MILLENNIUM FULCRUM EDITION 3.0\n",
            "\n",
            "Contents\n",
            "\n",
            " CHAPTER I.     Down the Rabbit-Hole\n",
            " CHAPTER II.    The Pool of Tears\n",
            " CHAPTER III.   A Caucus-Race and a Long Tale\n",
            " CHAPTER IV.    The Rabbit Sends in a Little Bill\n",
            " CHAPTER V.     Advice from a Caterpillar\n",
            " CHAPTER VI.    Pig and Pepper\n",
            " CHAPTER VII.   A Mad Tea-Party\n",
            " CHAPTER VIII.  The Queen’s Croquet-Ground\n",
            " CHAPTER IX.    The Mock Turtle’s Story\n",
            " CHAPTER X.     The Lobster Quadrille\n",
            " CHAPTER XI.    Who Stole the Tarts?\n",
            " CHAPTER XII.   Alice’s Evidence\n",
            "\n",
            "\n",
            "\n",
            "\n",
            "CHAPTER I.\n",
            "Down the Rabbit-Hole\n",
            "\n",
            "\n",
            "Alice was beginning to get very tired of sitting by her sister on the\n",
            "bank, and of having nothing to do: once or twice she had peeped into\n",
            "the book her sister was reading, but it had no pictures or\n",
            "conversations in it, “and what is the use of a book,” thought Alice\n",
            "“without pictures or conversations?”\n"
          ]
        }
      ]
    },
    {
      "cell_type": "markdown",
      "source": [
        "---\n",
        "\n",
        "We can see that most of this is legal exta and metadata we do not want to include in our machine learning model. Conveniantly, Project Gutenberg added the following line of text to each book at the start:\n",
        "> `*** START OF THE PROJECT GUTENBERG EBOOK`\n",
        "\n",
        "Similarly, the end of the book has a huge amount of text (about 20,000 characters) that is not actually part of the book. Again, Project Gutenberg has the following line of text to note where the actual book ends:\n",
        "> `*** END OF THE PROJECT GUTENBERG EBOOK`\n",
        "\n",
        "Your first task is to write the following function `word_sequence_from_file`. This function is given a filepath to a locally downloaded Project Gutenberg book. It reads that file, finds where the text of the book actually starts and ends (i.e. without metadata and legal text), and returns the text of the book as a list of strings.\n",
        "\n",
        "You should use the command `str.split()` to turn a string into a list of words. An example is given below."
      ],
      "metadata": {
        "id": "Juxrpr637OWR"
      },
      "id": "Juxrpr637OWR"
    },
    {
      "cell_type": "code",
      "source": [
        "# An example of string splitting\n",
        "\"This is a string.\\n\\n\\nIt has a new line     and \\t lots of whitespace in it. Some punctuation too -- like this!!!\".split()"
      ],
      "metadata": {
        "id": "8SeruBK79kEr"
      },
      "id": "8SeruBK79kEr",
      "execution_count": null,
      "outputs": []
    },
    {
      "cell_type": "code",
      "execution_count": 21,
      "id": "832de4e4",
      "metadata": {
        "id": "832de4e4"
      },
      "outputs": [],
      "source": [
        "def word_sequence_from_file(filepath):\n",
        "    \"\"\"\n",
        "    Given a filepath to a text file for a Project Gutenberg book, this splits\n",
        "    the book into a list of strings, where each string is a word from the book.\n",
        "    Foratting data, like where \\n or spaces happen is destroyed by this, but\n",
        "    punctuation like \"word.\" are preserved.\n",
        "\n",
        "    :param      filepath:  The filepath to the book\n",
        "    :type       filepath:  string\n",
        "\n",
        "    :returns:   A list of strings without any whitespace.\n",
        "    :rtype:     List of string\n",
        "    \"\"\"\n",
        "\n",
        "    # Open the file\n",
        "    file_handle = open(filepath, encoding=\"utf8\")\n",
        "    raw_book_text = file_handle.read()  # Copies the book as a string in memory\n",
        "    file_handle.close()\n",
        "\n",
        "    start_book = \"*** START OF THE PROJECT GUTENBERG EBOOK\"\n",
        "    end_book = \"*** END OF THE PROJECT GUTENBERG EBOOK\"\n",
        "\n",
        "    l = raw_book_text.index(start_book) + len(start_book)\n",
        "    r = raw_book_text.index(end_book)\n",
        "\n",
        "    main_content = raw_book_text[l:r]\n",
        "    word_sequence = main_content.split()\n",
        "\n",
        "    return word_sequence"
      ]
    },
    {
      "cell_type": "code",
      "execution_count": 22,
      "id": "4909c91b",
      "metadata": {
        "id": "4909c91b"
      },
      "outputs": [],
      "source": [
        "shakespeare = word_sequence_from_file(\"Shakespeare.txt\")\n",
        "metamorphosis = word_sequence_from_file(\"Metamorphosis.txt\")\n",
        "wonderland = word_sequence_from_file(\"Wonderland.txt\")\n",
        "montecristo = word_sequence_from_file(\"MonteCristo.txt\")"
      ]
    },
    {
      "cell_type": "markdown",
      "source": [
        "To verify that the text looks correct, we can use `\" \".join(word_sequence)` to turn a list of strings back into text. Note that we have replaced all whitespace with just a space, so the formatting looks a bit different. The words should be the same though."
      ],
      "metadata": {
        "id": "7HIVVjeidrhd"
      },
      "id": "7HIVVjeidrhd"
    },
    {
      "cell_type": "code",
      "source": [
        "# Prints the first 100 words from Kafka's Metamorphosis\n",
        "# It's okay if there's a couple extra words at the beginning like\n",
        "# > \"by Franz Kafka Translated by David Wyllie\"\n",
        "# This is just a couple words that will not change our model significantly\n",
        "\n",
        "display(\" \".join(metamorphosis[1:100]))"
      ],
      "metadata": {
        "id": "8K4_Uq_TeBcD",
        "colab": {
          "base_uri": "https://localhost:8080/",
          "height": 69
        },
        "outputId": "9bb8f94f-1dc4-4ee7-f22b-75402890cd42"
      },
      "id": "8K4_Uq_TeBcD",
      "execution_count": 23,
      "outputs": [
        {
          "output_type": "display_data",
          "data": {
            "text/plain": [
              "'*** Metamorphosis by Franz Kafka Translated by David Wyllie I One morning, when Gregor Samsa woke from troubled dreams, he found himself transformed in his bed into a horrible vermin. He lay on his armour-like back, and if he lifted his head a little he could see his brown belly, slightly domed and divided by arches into stiff sections. The bedding was hardly able to cover it and seemed ready to slide off any moment. His many legs, pitifully thin compared with the size of the rest of him, waved about helplessly as he looked. “What’s happened to me?”'"
            ],
            "application/vnd.google.colaboratory.intrinsic+json": {
              "type": "string"
            }
          },
          "metadata": {}
        }
      ]
    },
    {
      "cell_type": "markdown",
      "source": [
        "---\n",
        "\n",
        "#2. Learning an Autoregressive Model\n",
        "\n",
        "We will explore a probabilistic model of the English language. We will describe this as a generative model; that is, we describe how book is randomly generated.\n",
        "\n",
        "\n",
        "\n",
        "We can approximate the structure of a book using a simple model called a **Markov Model** or autoregressive model. A markov model of **order** 0 predicts that each word in the book occurs with a fixed probability, independent of all other words. We can fit such a model to the book by counting the number of occurances of each word in that text, and using these counts as probabilities. For example, we could generate the following sentence from Kafka's _Metamorphosis_:\n",
        "\n",
        "> and calmness her he way “Gregor! to thought, dark bone fact, in they it than she way as bringing\n",
        "\n",
        "This obviously misses basic grammar because the model chooses each word independently.\n",
        "This does not capture how language works, since in reality there are huge correlations between consequtive words. For example, in English, adjectives typically come before nouns -- we say \"a red boat\" not \"a boat red\".\n",
        "\n",
        "We get a more complex model by allowing the probability of choosing each successive word to depend on the preceding words. A **Markov Model of order $k$** predicts that each word occurs with some probability, but that probability depends on the previous $k$ consequtive words, called a **k-gram**.\n",
        "\n",
        "> For example, suppose a book has the string `My name is` appear 10 times in it. 4 of those times are followed by `Alice`, 2 of those are followed by `Bob`, 2 by `Jesse`, and 2 by `Steve`. Then, a Markov Model of order 3 predicts that the word following the 3-gram `My name is` will be `Alice` with probability $\\frac{4}{10}$, `Bob` with probability $\\frac{2}{10}$, `Jesse` with probability $\\frac{2}{10}$, and `Steve` with probability $\\frac{2}{10}$.\n",
        "\n",
        "\n",
        "---\n",
        "_This text introduction to Markov Models is a paraphrasing of the [this](https://www.cs.princeton.edu/courses/archive/spr05/cos126/assignments/markov.html) assignment taught at Princeton, originally taught by Bob Sedgewick and Kevin Wayne._\n",
        "\n",
        "---\n",
        "\n",
        "Your next task is to write the following function, which, for each k-gram in a book, counts the frequency with which each word appears after that k-gram."
      ],
      "metadata": {
        "id": "Yj9psl0f-sZM"
      },
      "id": "Yj9psl0f-sZM"
    },
    {
      "cell_type": "code",
      "execution_count": 24,
      "id": "eef27074",
      "metadata": {
        "id": "eef27074"
      },
      "outputs": [],
      "source": [
        "def make_freq_dict(k, word_sequence):\n",
        "    \"\"\"\n",
        "    Makes a \"frequency dictionary\" called `freq_dict` from a sequence of words.\n",
        "    For each k-gram that appears in `word_sequence`, freq_dict[k_gram] is\n",
        "    another dictionary that maps words to how often they occur after k_gram.\n",
        "\n",
        "    For example, if k=3, suppose that running `freq_dict[\"they did something\"]`\n",
        "    returns following dictionary:\n",
        "        {\n",
        "            \"weird\": 4,\n",
        "            \"funny\": 3,\n",
        "            \"strange.\": 7\n",
        "        }\n",
        "    Then, the `word_sequence` has the phrase \"they did something weird\" appear\n",
        "    4 times, \"they did something funny\" appear 3 times, and \"they did something\n",
        "    strange.\" appear 7 times. In other words,\n",
        "    `freq_dict[\"they did something\"][\"strange\"]` returns how many times\n",
        "    \"they did something strange\" appears in `word_sequence`.\n",
        "\n",
        "    :param      k:              Size of k-gram\n",
        "    :type       k:              int\n",
        "    :param      word_sequence:  A book, broken up into a list of strings\n",
        "    :type       word_sequence:  List of string\n",
        "\n",
        "    :returns:   Frequency dictionary\n",
        "    :rtype:     Dict that maps strings to {Dict that maps string to ints}\n",
        "    \"\"\"\n",
        "\n",
        "    # Make empty dict to count frequencies\n",
        "    freq_dict = dict()\n",
        "\n",
        "    ## TODO: WRITE THIS CODE\n",
        "    for i in range(len(word_sequence) - k):\n",
        "        k_gram = ' '.join(word_sequence[i:i + k])\n",
        "        next_word = word_sequence[i + k]\n",
        "\n",
        "        if k_gram not in freq_dict:\n",
        "            freq_dict[k_gram] = {}\n",
        "\n",
        "        if next_word not in freq_dict[k_gram]:\n",
        "            freq_dict[k_gram][next_word] = 0\n",
        "        freq_dict[k_gram][next_word] += 1\n",
        "\n",
        "    return freq_dict"
      ]
    },
    {
      "cell_type": "markdown",
      "source": [
        "---\n",
        "\n",
        "Next, write the following functions that use a `freq_dict` to predict the next words given a $k$-gram, and to generate a whole paragraph given a starting $k$-gram. Be sure to carefully read the descriptions of the functions."
      ],
      "metadata": {
        "id": "8tR642y-10aD"
      },
      "id": "8tR642y-10aD"
    },
    {
      "cell_type": "code",
      "execution_count": 25,
      "id": "904152b3",
      "metadata": {
        "id": "904152b3"
      },
      "outputs": [],
      "source": [
        "def predict_next_word(this_kgram, freq_dict):\n",
        "    \"\"\"\n",
        "    Randomly picks the next work given the previous k-gram, using the frequency\n",
        "    of possible next works according to `freq_dict`. If `freq_dict` does not\n",
        "    contain the k-gram, return None.\n",
        "\n",
        "    :param      this_kgram:  The current k-gram\n",
        "    :type       this_kgram:  string\n",
        "    :param      freq_dict:   A frequency dictionary\n",
        "    :type       freq_dict:   Dict that maps strings to {Dict that maps string to ints}\n",
        "\n",
        "    :returns:   The next word, or None\n",
        "    :rtype:     string or None\n",
        "    \"\"\"\n",
        "\n",
        "    ## TODO: WRITE THIS FUNCTION\n",
        "    if this_kgram not in freq_dict:\n",
        "        return None\n",
        "\n",
        "    next_words = list(freq_dict[this_kgram].keys())\n",
        "    frequencies = list(freq_dict[this_kgram].values())\n",
        "\n",
        "    next_word = random.choices(next_words, weights=frequencies, k=1)[0]\n",
        "\n",
        "    return next_word\n",
        "\n",
        "\n",
        "def predict_paragraph(start_kgram, k, freq_dict, gen_length=300):\n",
        "    \"\"\"\n",
        "    Given a starting k-gram, this randomly generates `gen_length` many new\n",
        "    words to form a paragraph of text consistent with `freq_dict`. If the last\n",
        "    word in the book is generated (i.e. if `predict_next_word` returns None),\n",
        "    then this will short-circuit and stop generating words early.\n",
        "\n",
        "    :param      start_kgram:  The kgram to start from.\n",
        "    :type       start_kgram:  List of string\n",
        "    :param      k:            k-gram size\n",
        "    :type       k:            int\n",
        "    :param      freq_dict:    A frequency dictionary\n",
        "    :type       freq_dict:    Dict that maps strings to {Dict that maps string to ints}\n",
        "    :param      gen_length:   The number of words to generate.\n",
        "    :type       gen_length:   int\n",
        "\n",
        "    :returns:   A generated paragraph\n",
        "    :rtype:     List of string\n",
        "    \"\"\"\n",
        "\n",
        "    ## TODO: WRITE THIS FUNCTION\n",
        "    current_kgram = ' '.join(start_kgram)\n",
        "    gen_para = []\n",
        "\n",
        "    for _ in range(gen_length):\n",
        "        next_word = predict_next_word(current_kgram, freq_dict)\n",
        "        if next_word is None:\n",
        "            break\n",
        "\n",
        "        gen_para.append(next_word)\n",
        "        current_kgram = ' '.join(current_kgram.split()[1:] + [next_word])\n",
        "\n",
        "    return gen_para"
      ]
    },
    {
      "cell_type": "markdown",
      "source": [
        "With these functions, we can run some sample code and see how well our synthetic text generator works! Mess around with the value of `k_test` below to see how changing the size of the $k$-gram impacts the quality of the generated  text. You can also swap out the book from _Metamorphosis_ to any other book you prefer. Lastly, you can change what the starting $k$-gram is by changing `start_test` to some other $k$-gram that appears in your book.\n",
        "\n",
        "- When you are done, leave this at `k_test=3` and move onto the next section.\n",
        "\n"
      ],
      "metadata": {
        "id": "m39BmzND31r6"
      },
      "id": "m39BmzND31r6"
    },
    {
      "cell_type": "code",
      "execution_count": 31,
      "id": "e833848d",
      "metadata": {
        "id": "e833848d",
        "colab": {
          "base_uri": "https://localhost:8080/",
          "height": 120
        },
        "outputId": "f6613e28-9db9-42ff-fe8a-8592d0b8af8e"
      },
      "outputs": [
        {
          "output_type": "execute_result",
          "data": {
            "text/plain": [
              "'that he could break his concentration, and as he regained his breath he said to the chief clerk, “I hope it’s nothing serious. But on the other side did the same; it seemed that someone needed to enter the room but thought better of it. But you, sir, you have a better overview than the boss himself—it’s very easy for a businessman like him to make mistakes about his employees and judge them more harshly than he should. And you’re also well aware that he was completely covered and his sister had certainly left it there for more than a month, and his condition seemed serious enough to remind even his father that Gregor, despite his current sad and revolting form, was a family member who could not be noticed outside through the wooden door, as his mother was soon realised. Out of consideration for his parents, Gregor wanted to help too—he could save his picture later, although he stuck fast to the glass and had to pull himself off by force; then he, too, ran into the next room which, under pressure from her father, the three gentlemen had put their hands in the pockets of their well-worn coats. It was now quite light in the room. Then the door of Gregor’s room to his left, “the chief clerk has come round and wants to know why you didn’t leave on the early train. We don’t know what to say to him. And anyway, he wants to speak to you personally. So please open up this door. I’m sure he’ll be good enough to forgive the untidiness of your room.” Then the chief clerk had left it behind on a chair, along with his hat and overcoat), picked up a large newspaper from the table with her hand as'"
            ],
            "application/vnd.google.colaboratory.intrinsic+json": {
              "type": "string"
            }
          },
          "metadata": {},
          "execution_count": 31
        }
      ],
      "source": [
        "# Pick k and make a frequency dictionary from Metamorphosis.\n",
        "k_test = 3\n",
        "freq_dict_test = make_freq_dict(k_test, metamorphosis)\n",
        "\n",
        "# pick a random starting k-gram from the freq-dict.\n",
        "start_test = random.choice(list(freq_dict_test.keys())).split()\n",
        "\n",
        "# Alternatively, pick the start of the book as the first k-gram\n",
        "# start_test = metamorphosis[0:k_test]\n",
        "\n",
        "# Generate a paragraph, and print it.\n",
        "gen_paragraph = predict_paragraph(start_test, k_test, freq_dict_test)\n",
        "\" \".join(gen_paragraph)"
      ]
    },
    {
      "cell_type": "markdown",
      "source": [
        "---\n",
        "\n",
        "#3. Creativive or Copying?\n",
        "\n",
        "This has effectively generated a nice paragraph of text that really feels in the style of Kafka/Shakespeare/etc. It is writing whole sentences that usually feel like valid English. While it is not writing fully coherent paragraphs, it is nevertheless pretty effective. But we quickly run into a common issue with generative models: is this $k$-gram model creating new sentences, or is it just copying whole passages from the original text? For instance, all $k$-grams in our generated text must exist in the original book.\n",
        "\n",
        "We approach this question with a very simple metric to check for plagiarism: the **Longest Common Substring** (LCS). Below, we use the `LcsFinder` class to do two things:\n",
        "1. We compute the length of the longest common substring between the full book and our generated paragraph.\n",
        "1. We visualize long common substrings using a simple approach: starting from the first word of the generated paragraph, we color all of the following words that appear in that same order in the original text in one color. We switch colors everytime the generated text deviates from the original text."
      ],
      "metadata": {
        "id": "b1lkydsc2pAb"
      },
      "id": "b1lkydsc2pAb"
    },
    {
      "cell_type": "markdown",
      "id": "aed49938",
      "metadata": {
        "id": "aed49938"
      },
      "source": [
        "## 3.0 Code we give to you\n",
        "\n",
        "This is the class `LcsFinder`. Construct it with `LcsFinder(word_sequence)`, where `word_sequence` is a long list of strings (i.e. a book). Once constructed, there's two functions you might want to use:\n",
        "1. `LcsFinder.lcs_length(small_sequence)`, which finds the length of the Longest Common Substring (LCS) of `small_sequence` and `word_sequence`. `small_sequence` should also be a list of strings.\n",
        "2. `LcsFinder.greedy_lcs_markdown(small_sequence)`, which takes `small_sequence` and uses Markdown to highlight substrings of that text, where each substring of `small_sequence` is also a substring of `word_sequence`. It uses a greedy strategy to heuristically make these substrings as long as possible.\n",
        "\n",
        "You don't need to understand how the code in section 3.0 works, but you should understand how to use it. The first code block below is the actual code implimentation, and the two code blocks after that show how to run the code.\n",
        "\n",
        "_You can expand the code blocks by clocking on <font color=\"blue\">Show code</font>, and can hide the code again with the `Show/hide code` menu in the command pallate, which you can open with the key command `cmd-shift-p`._"
      ]
    },
    {
      "cell_type": "code",
      "execution_count": 32,
      "id": "19155c27",
      "metadata": {
        "id": "19155c27"
      },
      "outputs": [],
      "source": [
        "#The code that impliments `LcsFinder`\n",
        "\n",
        "from IPython.display import display, Markdown #\n",
        "\n",
        "# Colors to use in the Markdown Text\n",
        "md_colors = [\"#009292\", \"#FF6DB6\", \"#490092\", \"#006DDB\", \"#B66DFF\", \"#920000\", \"#DB6D00\"]\n",
        "\n",
        "def list_of_seqs_to_markdown(list_of_sequences):\n",
        "    \"\"\"\n",
        "    Takes in a list-of-list-of-strings, and colors each sublist with a single\n",
        "    color cycling through the list `md_colors` to pick those colors\n",
        "\n",
        "    :param      list_of_sequences:  List of list of words\n",
        "    :type       list_of_sequences:  List of list of words\n",
        "    \"\"\"\n",
        "\n",
        "    # The output string\n",
        "    display_string = \"\"\n",
        "    for i, word_sequence in enumerate(list_of_sequences):\n",
        "        display_string = display_string + f'<font color={md_colors[i % len(md_colors)]}>{\" \".join(word_sequence)}</font> '\n",
        "\n",
        "    # Draw that string with Markdown\n",
        "    display(Markdown(display_string))\n",
        "\n",
        "\n",
        "class LcsFinder:\n",
        "    \"\"\"\n",
        "    Internally, this class takes `word_sequence` and\n",
        "    builds a hash table from any k-gram that appears in\n",
        "    `word_sequence` to the list of all indices where that\n",
        "    k-gram appears in `word_sequence`. This makes finding\n",
        "    the LCS pretty fast.\n",
        "    It also stores a set of all less-than-k grams that appear\n",
        "    in the text, but just as a set and not as a hash table.\n",
        "    \"\"\"\n",
        "\n",
        "    def __init__(self, word_sequence, k=3):\n",
        "        \"\"\"\n",
        "        By default, this hash table uses 3-grams, this seems to work well. Feel\n",
        "        free to pass in a different k-value, though keep in mind this is a\n",
        "        heuristic speedup, and is unrelated to the k-gram from the language\n",
        "        model.\n",
        "\n",
        "        :param      word_sequence:  A book\n",
        "        :type       word_sequence:  List of strings\n",
        "        :param      k:              Heuristic k-gram size for efficient lookup\n",
        "        :type       k:              int\n",
        "        \"\"\"\n",
        "        self.k = k\n",
        "        self.word_sequence = word_sequence\n",
        "        self.index_hash = dict()\n",
        "        self.short_gram_set = set()\n",
        "\n",
        "        for i in range(len(word_sequence)-k):\n",
        "\n",
        "            k_gram = \" \".join(word_sequence[i:i+k])  # Build this k-gram\n",
        "            if k_gram not in self.index_hash:\n",
        "                self.index_hash[k_gram] = []  # Add it to the hash table if it ain't there\n",
        "            self.index_hash[k_gram].append(i)  # And add the index to the list\n",
        "\n",
        "            # Update the set of short grams with all possible grams starting at i, and with length < k.\n",
        "            self.short_gram_set.update({\" \".join(word_sequence[i:i+j]) for j in range(1,k)})\n",
        "\n",
        "    def length_of_lcs_from_start(self, small_sequence, start_idx):\n",
        "        \"\"\"\n",
        "        Look for the longest common substring of word_sequence and\n",
        "        small_sequence, subject to the substring starting at\n",
        "        `small_sequence[start_idx]`. Returns the length of this LCS, measured in\n",
        "        words.\n",
        "\n",
        "        :param      small_sequence:  A small word sequence\n",
        "        :type       small_sequence:  List of strings\n",
        "        :param      start_idx:       The index where the LCS has to start at\n",
        "        :type       start_idx:       int\n",
        "\n",
        "        :returns:   Length of the LCS, measure in words\n",
        "        :rtype:     int\n",
        "        \"\"\"\n",
        "\n",
        "        # Build the k-gram rooted at start_idx\n",
        "        start_k_gram = \" \".join(small_sequence[start_idx:start_idx+self.k])\n",
        "\n",
        "        # If the k-gram is in the big hash table,\n",
        "        if start_k_gram in self.index_hash:\n",
        "\n",
        "            longest = 0\n",
        "\n",
        "            # Scan over all indices in the list in the hash table\n",
        "            for word_seq_index in self.index_hash[start_k_gram]:\n",
        "\n",
        "                # While loop, starting at size k, expanding the length of the LCS until the sequences stop matching\n",
        "                i = self.k\n",
        "                while (word_seq_index + i < len(self.word_sequence) and # in-bounds on word_sequence\n",
        "                       start_idx + i < len(small_sequence) and # in-bounds on small_sequence\n",
        "                       self.word_sequence[word_seq_index + i] == small_sequence[start_idx + i]): # the words are the same\n",
        "                    i = i+1\n",
        "\n",
        "                # The length of the longest LCS seen so far is kept\n",
        "                longest = max(longest, i)\n",
        "            return longest\n",
        "        else:\n",
        "            # If the k-gram ain't in the big hash table, check if it's sub-grams are in the stored set\n",
        "            for i in range(self.k-1,0,-1): # In order from k-1 to 1\n",
        "                if \" \".join(small_sequence[start_idx:start_idx+i]) in self.short_gram_set:\n",
        "                    return i\n",
        "            return 0\n",
        "\n",
        "    def lcs_length(self, small_sequence):\n",
        "        \"\"\"\n",
        "        Given `small_sequence`, a list of strings, this returns the length of\n",
        "        the longest common substring between `small_sequence` and\n",
        "        `word_sequence`\n",
        "\n",
        "        :param      small_sequence:  A small sequence of words\n",
        "        :type       small_sequence:  List of strings\n",
        "\n",
        "        :returns:   Length of the LCS, measured in words\n",
        "        :rtype:     int\n",
        "        \"\"\"\n",
        "        longest = 0\n",
        "\n",
        "        # Just iterative over all starting words in `small_sequence` and keep the biggest number\n",
        "        for i in range(len(small_sequence)):\n",
        "            sequence_len = self.length_of_lcs_from_start(small_sequence, i)\n",
        "            longest = max(longest, sequence_len)\n",
        "\n",
        "        return longest\n",
        "\n",
        "    # Given `small_sequence`, a list of strings, this prints highlighted markdown that shows where one substring of `word_sequence` ends and the next one starts. If a word doesn't appear in `word_sequence`, we just treat it like a substring of length 1.\n",
        "\n",
        "    def greedy_lcs_markdown(self, small_sequence):\n",
        "        \"\"\"\n",
        "        Given `small_sequence`, a list of strings, this prints highlighted\n",
        "        markdown that shows where one substring of `word_sequence` ends and the\n",
        "        next one starts. If a word doesn't appear in `word_sequence`, we just\n",
        "        treat it like a substring of length 1.\n",
        "\n",
        "        :param      small_sequence:  A small sequence of words\n",
        "        :type       small_sequence:  List of strings\n",
        "\n",
        "        :returns:   Markdown display text (renders by default on Jupyter)\n",
        "        :rtype:     Markdown display text\n",
        "        \"\"\"\n",
        "        list_of_sequences = []  # The output list\n",
        "\n",
        "        i = 0\n",
        "        while i < len(small_sequence):\n",
        "            # iteratate over small_sequence, finding the lcs rooted at index i,\n",
        "            # and color that LCS accordingly.\n",
        "            sequence_len = max(self.length_of_lcs_from_start(small_sequence, i), 1)\n",
        "            list_of_sequences.append(small_sequence[i:i+sequence_len])\n",
        "            i = i + sequence_len\n",
        "\n",
        "        return list_of_seqs_to_markdown(list_of_sequences)\n"
      ]
    },
    {
      "cell_type": "code",
      "execution_count": 33,
      "id": "b6aa92f2",
      "metadata": {
        "scrolled": true,
        "id": "b6aa92f2",
        "colab": {
          "base_uri": "https://localhost:8080/",
          "height": 46
        },
        "outputId": "7d01c8ea-e429-4db5-84d8-77a46b83de83"
      },
      "outputs": [
        {
          "output_type": "display_data",
          "data": {
            "text/plain": [
              "<IPython.core.display.Markdown object>"
            ],
            "text/markdown": "The length of the LCS between `test_word_sequence` and `test_small_sequence` is 5."
          },
          "metadata": {}
        }
      ],
      "source": [
        "#@markdown An example of how to build an `LcsFinder`. The `str.split()` function turns the string into a list of string.\n",
        "test_word_sequence = \"wow this is a sentence that I wrote like wow this is a real thing\".split(\" \")\n",
        "test_small_sequence = \"heck this is a sentence that is sgetti\".split(\" \")\n",
        "\n",
        "test_LCS_finder = LcsFinder(test_word_sequence)\n",
        "test_lcs_length = test_LCS_finder.lcs_length(test_small_sequence)\n",
        "display(Markdown(f'The length of the LCS between `test_word_sequence` and `test_small_sequence` is {test_lcs_length}.'))"
      ]
    },
    {
      "cell_type": "code",
      "execution_count": 34,
      "id": "67e21af9",
      "metadata": {
        "scrolled": true,
        "id": "67e21af9",
        "cellView": "form",
        "colab": {
          "base_uri": "https://localhost:8080/",
          "height": 46
        },
        "outputId": "3867354e-b83c-45a9-fd5b-c7c734c0a189"
      },
      "outputs": [
        {
          "output_type": "display_data",
          "data": {
            "text/plain": [
              "<IPython.core.display.Markdown object>"
            ],
            "text/markdown": "<font color=#009292>heck</font> <font color=#FF6DB6>this is a sentence that</font> <font color=#490092>is</font> <font color=#006DDB>sgetti</font> "
          },
          "metadata": {}
        }
      ],
      "source": [
        "#@markdown An example of coloring the `small_sequence` by all the LCS's found in the word_sequence.\n",
        "test_LCS_finder.greedy_lcs_markdown(test_small_sequence)"
      ]
    },
    {
      "cell_type": "markdown",
      "source": [
        "## 3.1 LCS on Generated Text"
      ],
      "metadata": {
        "id": "T8kj9s3hdmRq"
      },
      "id": "T8kj9s3hdmRq"
    },
    {
      "cell_type": "code",
      "execution_count": 35,
      "id": "a91d132d",
      "metadata": {
        "id": "a91d132d",
        "colab": {
          "base_uri": "https://localhost:8080/",
          "height": 233
        },
        "outputId": "4eb27ea5-b322-440a-e827-7667dbb87162"
      },
      "outputs": [
        {
          "output_type": "stream",
          "name": "stdout",
          "text": [
            "LCS length: 62 words\n"
          ]
        },
        {
          "output_type": "display_data",
          "data": {
            "text/plain": [
              "<IPython.core.display.Markdown object>"
            ],
            "text/markdown": "<font color=#009292>that he could break his concentration, and as he regained his breath he said to</font> <font color=#FF6DB6>the chief clerk, “I hope it’s nothing serious. But on the other</font> <font color=#490092>side did the same; it seemed that someone needed to enter the room but thought better of it.</font> <font color=#006DDB>But you, sir, you have a better overview than the</font> <font color=#B66DFF>boss himself—it’s very easy for a businessman like him to make mistakes about his employees and judge them more harshly than he should. And you’re also well aware that</font> <font color=#920000>he was completely covered and his sister</font> <font color=#DB6D00>had certainly left it there for</font> <font color=#009292>more than a month, and his condition seemed serious enough to remind even his father that Gregor, despite his current sad and revolting form, was a family member who could not be</font> <font color=#FF6DB6>noticed outside through the wooden door, as his mother was</font> <font color=#490092>soon realised. Out of consideration for his parents, Gregor wanted to</font> <font color=#006DDB>help too—he could save his picture later, although he stuck fast to the glass and had to pull himself off by force; then he, too, ran into the next room</font> <font color=#B66DFF>which, under pressure from her father, the three gentlemen</font> <font color=#920000>had put their hands in</font> <font color=#DB6D00>the pockets of their well-worn coats. It was now quite light in the room. Then the door of</font> <font color=#009292>Gregor’s room to his</font> <font color=#FF6DB6>left, “the chief clerk has come round and wants to know why you didn’t leave on the early train. We don’t know what to say to him. And anyway, he wants to speak to you personally. So please open up this door. I’m sure he’ll be good enough to forgive the untidiness of your room.” Then the chief clerk</font> <font color=#490092>had left it behind on a chair, along with his hat and overcoat), picked up a large newspaper from the table with</font> <font color=#006DDB>her hand as</font> "
          },
          "metadata": {}
        }
      ],
      "source": [
        "# Build an LcsFinder for Metamorphosis\n",
        "metamorphosis_finder = LcsFinder(metamorphosis)\n",
        "\n",
        "# Use the LcsFinder to find the LCS length in the generated paragraph\n",
        "print(f'LCS length: {metamorphosis_finder.lcs_length(gen_paragraph)} words')\n",
        "\n",
        "# Use the LcsFinder to highlight substrings in the generated text that appear in the original text.\n",
        "metamorphosis_finder.greedy_lcs_markdown(gen_paragraph)"
      ]
    },
    {
      "cell_type": "markdown",
      "source": [
        "---\n",
        "Note that in the paragraph above, every chunk of text in the same color was copied directly from the original book.\n",
        "This shows a non-trivial amount of copying going on. Despite only using $3$-grams, we are often copying much more than 3 words at a time from the original book. Sometimes, we are copying whole sentences.\n",
        "\n",
        "We find ourselves at an impass:\n",
        "- If we make $k$ too small, then we lose the structure of grammer, and generate nonsense.\n",
        "- If we make $k$ too large, then we start plagiarizing.\n",
        "\n",
        "Let's try to understand the scale of this problem. Take a book, generate 100 paragraphs of 300 words for each of 5 different values of $k$, and compute the length of the LCS between the book and the generated paragraph. Specifically, compute the $25^{th}$ quartile, median, and $75^{th}$ quartile of the LCS length across the 100 trials."
      ],
      "metadata": {
        "id": "R4lripGN6ldT"
      },
      "id": "R4lripGN6ldT"
    },
    {
      "cell_type": "code",
      "execution_count": 59,
      "id": "2cd8d2f6",
      "metadata": {
        "id": "2cd8d2f6"
      },
      "outputs": [],
      "source": [
        "# Which values of k to generate k-grams for and estimate LCS lengths with\n",
        "ks_to_plot = [1, 2, 3, 4, 5]\n",
        "\n",
        "def gen_lcs_statistics(word_sequence):\n",
        "    \"\"\"\n",
        "    Given a word_sequence, this generates 100 paragraphs of length 300\n",
        "    at each of various choices of k-gram size (see `ks_to_plot`). It then\n",
        "    returns the median, 25th quartile, and 75th quartile of the LCS's length\n",
        "    at each value of k.\n",
        "\n",
        "    More precisely, it should return a dictionary with the following shape:\n",
        "        {\n",
        "            \"medians\": np.array([numbers...]),\n",
        "            \"top_quartiles\": np.array([numbers...]),\n",
        "            \"bot_quartiles.\": np.array([numbers...])\n",
        "        }\n",
        "    Where top_quartiles is for the 75^th quartile, and bot_quartiles is for the 25^th quartile.\n",
        "\n",
        "    :param      word_sequence:  The book\n",
        "    :type       word_sequence:  List of string\n",
        "\n",
        "    :returns:   A dictionary with keys \"medians\", \"top_quartiles\",\n",
        "                \"bot_quartiles\", and values which are numpy vectors\n",
        "                with the same length as `ks_to_plot`.\n",
        "    :rtype:     Dict that maps string to numpy array\n",
        "    \"\"\"\n",
        "\n",
        "    n_trials = 100  # number of trials\n",
        "    gen_length_test = 300  # number of words to generate\n",
        "\n",
        "    lcs_lengths = np.zeros((len(ks_to_plot), n_trials))\n",
        "    lcs_finder = LcsFinder(word_sequence)\n",
        "\n",
        "    ## TODO: WRITE THIS CODE\n",
        "    ## It will be helpful to use np.quantile and np.median\n",
        "    for i, k in enumerate(ks_to_plot):\n",
        "        # print(k)\n",
        "        lcs_finder = LcsFinder(word_sequence, k)\n",
        "\n",
        "        for trial in range(n_trials):\n",
        "            freq_dict_test = make_freq_dict(k, word_sequence)\n",
        "            start_test = random.choice(list(freq_dict_test.keys())).split()\n",
        "            gen_paragraph = predict_paragraph(start_test, k, freq_dict_test)\n",
        "\n",
        "            lcs_lengths[i, trial] = lcs_finder.lcs_length(gen_paragraph)\n",
        "\n",
        "    lcs_length_medians = np.median(lcs_lengths, axis=1)\n",
        "    lcs_length_bots = np.quantile(lcs_lengths, 0.25, axis=1)\n",
        "    lcs_length_tops = np.quantile(lcs_lengths, 0.75, axis=1)\n",
        "\n",
        "    return {\"medians\": lcs_length_medians, \"top_quartiles\": lcs_length_tops, \"bot_quartiles\": lcs_length_bots}"
      ]
    },
    {
      "cell_type": "code",
      "execution_count": 55,
      "id": "081c7b43",
      "metadata": {
        "id": "081c7b43",
        "colab": {
          "base_uri": "https://localhost:8080/"
        },
        "outputId": "c4707cf3-7ccb-4f84-ebf3-f75d4be8a9b9"
      },
      "outputs": [
        {
          "output_type": "stream",
          "name": "stdout",
          "text": [
            "1\n",
            "2\n",
            "3\n",
            "4\n",
            "5\n"
          ]
        },
        {
          "output_type": "execute_result",
          "data": {
            "text/plain": [
              "{'medians': array([  4. ,  13. ,  45. , 154.5, 300. ]),\n",
              " 'top_quartiles': array([  5.  ,  15.  ,  57.  , 195.25, 300.  ]),\n",
              " 'bot_quartiles': array([  4.  ,  12.  ,  35.75, 121.  , 206.5 ])}"
            ]
          },
          "metadata": {},
          "execution_count": 55
        }
      ],
      "source": [
        "# For a pretty long text, like shakespeare, this still should not take more than 45 seconds.\n",
        "gen_lcs_statistics(shakespeare)"
      ]
    },
    {
      "cell_type": "markdown",
      "source": [
        "---\n",
        "Having generated this data, let's plot how the LCS length depends on $k$.\n",
        "Write the below function, which should produce an image that looks roughly like the following image:\n",
        "\n",
        "<img src=\"https://drive.google.com/uc?id=1J9VlSFelSAwa2r7-jrPLUGKf5mTanFyn\"></img>\n",
        "\n",
        "Slight deviations in the colors, shapes, labels, and other aesthetics are fine, but the same information should be portrayed -- a clear median line with clear $25^{th}$ and $75^{th}$ quartiles. The title should also state what book is being used, and the axes should be labeled.\n",
        "\n",
        "<!-- the img tag is taken from this gdrive link: https://drive.google.com/file/d/1J9VlSFelSAwa2r7-jrPLUGKf5mTanFyn/view?usp=share_link -->\n"
      ],
      "metadata": {
        "id": "-gpEO-M49X9U"
      },
      "id": "-gpEO-M49X9U"
    },
    {
      "cell_type": "code",
      "execution_count": 56,
      "id": "3e85f6a3",
      "metadata": {
        "id": "3e85f6a3"
      },
      "outputs": [],
      "source": [
        "def plot_lcs_statistics(word_sequence, book_title, lcs_stats):\n",
        "    \"\"\"\n",
        "    Given a book, it's title, and the LCS statistics generated by\n",
        "    `gen_lcs_statistics`, this renders a plot to visualize the statistics.\n",
        "\n",
        "    :param      word_sequence:  The book\n",
        "    :type       word_sequence:  List of string\n",
        "    :param      book_title:     The book's title\n",
        "    :type       book_title:     String\n",
        "    :param      lcs_stats:      The lcs statistics\n",
        "    :type       lcs_stats:      Dict that maps string to numpy array\n",
        "    \"\"\"\n",
        "\n",
        "    ## TODO: WRITE THIS CODE\n",
        "    ## Use plot() to render the median as one line\n",
        "    ## Use fill_between() to shade the area 25th and 75th quartiles with a low alpha value, like alpha=0.35\n",
        "    ks_to_plot = [1, 2, 3, 4, 5]\n",
        "    medians = lcs_stats['medians']\n",
        "    top_quartiles = lcs_stats['top_quartiles']\n",
        "    bot_quartiles = lcs_stats['bot_quartiles']\n",
        "\n",
        "    plt.figure(figsize=(8, 6))\n",
        "    plt.plot(ks_to_plot, medians, color='blue', label='Median LCS Length')\n",
        "\n",
        "    plt.fill_between(ks_to_plot, bot_quartiles, top_quartiles, color='blue', alpha=0.35, label='25th-75th Percentile')\n",
        "\n",
        "    plt.title(f\"{book_title}: k versus length of LCS\")\n",
        "    plt.xlabel(\"k\")\n",
        "    plt.ylabel(\"LCS Length in words\")\n",
        "    plt.legend(loc=\"upper left\")\n",
        "\n",
        "    plt.grid(True)\n",
        "    plt.show()\n"
      ]
    },
    {
      "cell_type": "code",
      "execution_count": 57,
      "id": "c2d0cd1a",
      "metadata": {
        "id": "c2d0cd1a",
        "colab": {
          "base_uri": "https://localhost:8080/",
          "height": 555
        },
        "outputId": "4a66de05-8293-49ed-e88a-b2fd21af0a50"
      },
      "outputs": [
        {
          "output_type": "stream",
          "name": "stdout",
          "text": [
            "1\n",
            "2\n",
            "3\n",
            "4\n",
            "5\n"
          ]
        },
        {
          "output_type": "display_data",
          "data": {
            "text/plain": [
              "<Figure size 640x480 with 1 Axes>"
            ],
            "image/png": "[encoded data removed]"
          },
          "metadata": {}
        }
      ],
      "source": [
        "plot_lcs_statistics(wonderland, \"Alice in Wonderland\", gen_lcs_statistics(wonderland))"
      ]
    },
    {
      "cell_type": "markdown",
      "source": [
        "Okay, wow. That grows really fast. Exponentially even$\\phantom{}^{\\dagger}$. This means that, at least for the relatively small amount of training data we used, we get a poor tradeoff between quality (large $k$) and creativity (small $k$).\n",
        "\n",
        "Maybe we were just unlucky with our choice of book?\n",
        "Write the next function, which plots LCS lengths for many books all at once.\n",
        "It should produce and output roughly like the following:\n",
        "\n",
        "<img src=\"https://drive.google.com/uc?id=1JJrx3K5I_9qdE8ozTEr2lfyD1eLVu4oU\"></img>\n",
        "\n",
        "Again, slight deviations aesthetics are fine, but the same information should be portrayed.\n",
        "\n",
        "<!-- the img tag is taken from this gdrive link: https://drive.google.com/file/d/1JJrx3K5I_9qdE8ozTEr2lfyD1eLVu4oU/view?usp=share_link -->\n",
        "\n",
        "\n",
        "---\n",
        "\n",
        "$\\phantom{}^{[\\dagger]}$_It's literally exponential. If you're curious, add `plt.yscale(\"log\")` to your plotting code to see this curve become close-to-linear, suggesting this literally grows at the rate $LCS \\approx e^{\\Theta(k)}$._"
      ],
      "metadata": {
        "id": "3CsuB3ck-MQs"
      },
      "id": "3CsuB3ck-MQs"
    },
    {
      "cell_type": "code",
      "execution_count": 60,
      "id": "a9279df4",
      "metadata": {
        "id": "a9279df4"
      },
      "outputs": [],
      "source": [
        "shakes_stats = gen_lcs_statistics(shakespeare)\n",
        "metamorphosis_stats = gen_lcs_statistics(metamorphosis)\n",
        "wonderland_stats = gen_lcs_statistics(wonderland)\n",
        "monte_cristo_stats = gen_lcs_statistics(montecristo)"
      ]
    },
    {
      "cell_type": "code",
      "execution_count": 61,
      "id": "93f0a267",
      "metadata": {
        "id": "93f0a267"
      },
      "outputs": [],
      "source": [
        "plot_colors = [\"#009292\", \"#FF6DB6\", \"#490092\", \"#006DDB\", \"#B66DFF\", \"#6DB6FF\", \"#B6DBFF\", \"#920000\", \"#924900\", \"#DB6D00\", \"#24FF24\", \"#FFFF6D\"]\n",
        "\n",
        "def plot_many_lcs_statistics(list_of_dicts):\n",
        "    \"\"\"\n",
        "    Given a list of dicts, each with a book title, and the LCS statistics\n",
        "    generated by `gen_lcs_statistics`, this renders a plot to visualize the statistics.\n",
        "\n",
        "    The given dicts have the following shape, with these exact keys:\n",
        "        {\n",
        "            \"book_name\": string,\n",
        "            \"stats\": output of plot_lcs_statistics()\n",
        "        }\n",
        "\n",
        "    :param      list_of_dicts:  A list of dicts\n",
        "    :type       list_of_dicts:  List of dict\n",
        "    \"\"\"\n",
        "    fig, ax = plt.subplots()\n",
        "\n",
        "    ## TODO: WRITE THIS CODE\n",
        "    ## The same basic idea as the last plot, but with many series overlaid. Make alpha=0.15 for the fill to keep the image legible.\n",
        "    ## Use some subset of the list of colors at the top -- they are a visually nice set of colorblind-safe colors.\n",
        "\n",
        "    ks_to_plot = [1, 2, 3, 4, 5]\n",
        "\n",
        "    for idx, book_data in enumerate(list_of_dicts):\n",
        "        book_name = book_data['book_name']\n",
        "        stats = book_data['stats']\n",
        "\n",
        "        medians = stats['medians']\n",
        "        top_quartiles = stats['top_quartiles']\n",
        "        bot_quartiles = stats['bot_quartiles']\n",
        "\n",
        "        ax.plot(ks_to_plot, medians, label=book_name, color=plot_colors[idx])\n",
        "        ax.fill_between(ks_to_plot, bot_quartiles, top_quartiles, color=plot_colors[idx], alpha=0.15)\n",
        "\n",
        "    ax.set_xlabel('k')\n",
        "    ax.set_ylabel('LCS Length in words')\n",
        "    ax.set_title('k versus length of LCS')\n",
        "\n",
        "    ax.legend(loc='best')\n",
        "    plt.show()\n"
      ]
    },
    {
      "cell_type": "code",
      "source": [
        "plot_many_lcs_statistics(\n",
        "    [\n",
        "        {\n",
        "            \"book_name\": \"All of Shakespeare\",\n",
        "            \"stats\": shakes_stats\n",
        "        }, {\n",
        "            \"book_name\": \"Metamorphosis\",\n",
        "            \"stats\": metamorphosis_stats\n",
        "        }, {\n",
        "            \"book_name\": \"Alice in Wonderland\",\n",
        "            \"stats\": wonderland_stats\n",
        "        }, {\n",
        "            \"book_name\": \"Monte Cristo\",\n",
        "            \"stats\": monte_cristo_stats\n",
        "        }\n",
        "    ]\n",
        ")"
      ],
      "metadata": {
        "id": "CQGQXSwBkWQL",
        "colab": {
          "base_uri": "https://localhost:8080/",
          "height": 470
        },
        "outputId": "5a671384-f2c5-4dd4-9aa6-f609415a0e28"
      },
      "id": "CQGQXSwBkWQL",
      "execution_count": 62,
      "outputs": [
        {
          "output_type": "display_data",
          "data": {
            "text/plain": [
              "<Figure size 640x480 with 1 Axes>"
            ],
            "image/png": "[encoded data removed]"
          },
          "metadata": {}
        }
      ]
    },
    {
      "cell_type": "markdown",
      "source": [
        "---\n",
        "\n",
        "So while some books are a bit better than others, they still all seem to grow at an exponential rate. Improving upon this will with require a better model (we will discuss some later in the course), a lot more training data, or idealy both.\n",
        "\n",
        "---\n",
        "\n",
        "# 4.  (Bonus Question -- 2 / 20 points) Can you improve our model?\n",
        "\n",
        "Code up a modification of our simple $k$-gram model that produces decent text (e.g. better than the 2-gram model) but copies less. To get bonus credit, post a screenshot of your generated text on Ed, using any Project Gutenberg book as the input data. Highlight the text with `LcsFinder` to highlight long common substrings. In your post, add a brief description of how you modified the model.\n",
        "\n",
        "Think creatively! You are also free to look online for different modifications and technique other people have use, but your lab report should (informally) cite whatever sources you used.\n"
      ],
      "metadata": {
        "id": "ylrdQcQWBuOt"
      },
      "id": "ylrdQcQWBuOt"
    },
    {
      "cell_type": "code",
      "source": [
        "# Write any code used for answering the bonus questions here"
      ],
      "metadata": {
        "id": "QwoKRhQyE9gm"
      },
      "id": "QwoKRhQyE9gm",
      "execution_count": 67,
      "outputs": []
    },
    {
      "cell_type": "code",
      "source": [],
      "metadata": {
        "id": "6AKKZaDrPbGo"
      },
      "id": "6AKKZaDrPbGo",
      "execution_count": null,
      "outputs": []
    }
  ],
  "metadata": {
    "kernelspec": {
      "display_name": "Python 3",
      "language": "python",
      "name": "python3"
    },
    "language_info": {
      "codemirror_mode": {
        "name": "ipython",
        "version": 3
      },
      "file_extension": ".py",
      "mimetype": "text/x-python",
      "name": "python",
      "nbconvert_exporter": "python",
      "pygments_lexer": "ipython3",
      "version": "3.8.8"
    },
    "colab": {
      "provenance": []
    }
  },
  "nbformat": 4,
  "nbformat_minor": 5
}